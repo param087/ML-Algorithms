{
 "cells": [
  {
   "cell_type": "code",
   "execution_count": 1,
   "metadata": {
    "collapsed": true
   },
   "outputs": [],
   "source": [
    "import matplotlib.pyplot as plt\n",
    "import numpy as np\n",
    "import pandas as pd\n",
    "from scipy import stats\n",
    "import seaborn as sns\n",
    "sns.set_style(\"white\")\n",
    "%matplotlib inline"
   ]
  },
  {
   "cell_type": "code",
   "execution_count": 2,
   "metadata": {
    "collapsed": false
   },
   "outputs": [
    {
     "data": {
      "text/plain": [
       "[<matplotlib.lines.Line2D at 0x1e275ec31d0>]"
      ]
     },
     "execution_count": 2,
     "metadata": {},
     "output_type": "execute_result"
    },
    {
     "data": {
      "image/png": "[encoded data removed]",
      "text/plain": [
       "<matplotlib.figure.Figure at 0x1e275a79e10>"
      ]
     },
     "metadata": {},
     "output_type": "display_data"
    }
   ],
   "source": [
    "x = np.linspace(start=-10, stop=10, num=1000)\n",
    "\n",
    "y = stats.norm.pdf(x, loc=0, scale=1.5)\n",
    "\n",
    "plt.plot(x,y)"
   ]
  },
  {
   "cell_type": "code",
   "execution_count": 3,
   "metadata": {
    "collapsed": false
   },
   "outputs": [
    {
     "data": {
      "text/html": [
       "<div>\n",
       "<table border=\"1\" class=\"dataframe\">\n",
       "  <thead>\n",
       "    <tr style=\"text-align: right;\">\n",
       "      <th></th>\n",
       "      <th>x</th>\n",
       "    </tr>\n",
       "  </thead>\n",
       "  <tbody>\n",
       "    <tr>\n",
       "      <th>0</th>\n",
       "      <td>0.252851</td>\n",
       "    </tr>\n",
       "    <tr>\n",
       "      <th>1</th>\n",
       "      <td>-1.034562</td>\n",
       "    </tr>\n",
       "    <tr>\n",
       "      <th>2</th>\n",
       "      <td>3.319558</td>\n",
       "    </tr>\n",
       "    <tr>\n",
       "      <th>3</th>\n",
       "      <td>4.552363</td>\n",
       "    </tr>\n",
       "    <tr>\n",
       "      <th>4</th>\n",
       "      <td>-0.775995</td>\n",
       "    </tr>\n",
       "  </tbody>\n",
       "</table>\n",
       "</div>"
      ],
      "text/plain": [
       "          x\n",
       "0  0.252851\n",
       "1 -1.034562\n",
       "2  3.319558\n",
       "3  4.552363\n",
       "4 -0.775995"
      ]
     },
     "execution_count": 3,
     "metadata": {},
     "output_type": "execute_result"
    }
   ],
   "source": [
    "df = pd.read_csv('dataset/bimodal_example.csv')\n",
    "df.head(n=5)"
   ]
  },
  {
   "cell_type": "code",
   "execution_count": 4,
   "metadata": {
    "collapsed": false
   },
   "outputs": [
    {
     "data": {
      "text/plain": [
       "<matplotlib.axes._subplots.AxesSubplot at 0x1e275eee5c0>"
      ]
     },
     "execution_count": 4,
     "metadata": {},
     "output_type": "execute_result"
    },
    {
     "data": {
      "image/png": "[encoded data removed]",
      "text/plain": [
       "<matplotlib.figure.Figure at 0x1e2723d5860>"
      ]
     },
     "metadata": {},
     "output_type": "display_data"
    }
   ],
   "source": [
    "data = df.x\n",
    "sns.distplot(data, bins=20, kde=False)"
   ]
  },
  {
   "cell_type": "code",
   "execution_count": 5,
   "metadata": {
    "collapsed": false
   },
   "outputs": [
    {
     "data": {
      "text/plain": [
       "<matplotlib.axes._subplots.AxesSubplot at 0x1e27603c668>"
      ]
     },
     "execution_count": 5,
     "metadata": {},
     "output_type": "execute_result"
    },
    {
     "data": {
      "image/png": "[encoded data removed]",
      "text/plain": [
       "<matplotlib.figure.Figure at 0x1e2723d54e0>"
      ]
     },
     "metadata": {},
     "output_type": "display_data"
    }
   ],
   "source": [
    "sns.distplot(data, fit=stats.norm, bins=20, kde=False)"
   ]
  },
  {
   "cell_type": "code",
   "execution_count": 6,
   "metadata": {
    "collapsed": true
   },
   "outputs": [],
   "source": [
    "class Gaussian:\n",
    "    \n",
    "    def __init__(self, mu, sigma):\n",
    "        self.mu = mu\n",
    "        self.sigma = sigma\n",
    "        \n",
    "    def pdf(self, datum):\n",
    "        u = (datum - self.mu) /abs(self.sigma)\n",
    "        y = (1 / (sqrt(2 * pi) * abs(self.sigma))) *  exp(-u * u /2)\n",
    "        return y\n",
    "    \n",
    "    def __repr__(self):\n",
    "        return 'Gaussian ({0:4.6}, {1:4.6})'.format(self.mu, self.sigma)\n",
    "    "
   ]
  },
  {
   "cell_type": "code",
   "execution_count": 7,
   "metadata": {
    "collapsed": false
   },
   "outputs": [
    {
     "name": "stdout",
     "output_type": "stream",
     "text": [
      "Best single Gaussian: u = 1.9, sig= 1.8\n"
     ]
    }
   ],
   "source": [
    "best_single = Gaussian(np.mean(data), np.std(data))\n",
    "print('Best single Gaussian: u = {:.2}, sig= {:.2}'.format(best_single.mu, best_single.sigma))\n"
   ]
  },
  {
   "cell_type": "code",
   "execution_count": 8,
   "metadata": {
    "collapsed": false
   },
   "outputs": [
    {
     "data": {
      "text/plain": [
       "<matplotlib.legend.Legend at 0x1e2761c1b70>"
      ]
     },
     "execution_count": 8,
     "metadata": {},
     "output_type": "execute_result"
    },
    {
     "data": {
      "image/png": "[encoded data removed]",
      "text/plain": [
       "<matplotlib.figure.Figure at 0x1e276071438>"
      ]
     },
     "metadata": {},
     "output_type": "display_data"
    }
   ],
   "source": [
    "x = np.linspace(-6, 8 ,200)\n",
    "g_single = stats.norm(best_single.mu, best_single.sigma).pdf(x)\n",
    "sns.distplot(data, bins=20, kde=False, norm_hist=True)\n",
    "plt.plot(x,  g_single, label='single gaussian')\n",
    "plt.legend()"
   ]
  },
  {
   "cell_type": "code",
   "execution_count": 9,
   "metadata": {
    "collapsed": false
   },
   "outputs": [],
   "source": [
    "from math import exp ,sqrt ,log,pi\n",
    "from random import uniform"
   ]
  },
  {
   "cell_type": "code",
   "execution_count": 10,
   "metadata": {
    "collapsed": false
   },
   "outputs": [],
   "source": [
    "class GaussianMixture:\n",
    "    \n",
    "    def __init__(self, data, mu_min= min(data) , mu_max=max(data), sigma_min=.1,sigma_max=1, mix=.5):\n",
    "        \n",
    "        self.data=data\n",
    "        \n",
    "        self.one = Gaussian(uniform(mu_min,mu_max), uniform(sigma_min,sigma_max))\n",
    "        self.two = Gaussian(uniform(mu_min,mu_max), uniform(sigma_min,sigma_max))\n",
    "        \n",
    "        self.mix = mix\n",
    "        \n",
    "    def Estep(self):\n",
    "        \n",
    "        self.loglike = 0.\n",
    "        \n",
    "        for datum in self.data:\n",
    "            \n",
    "            wp1 = self.one.pdf(datum) * self.mix\n",
    "            wp2 = self.two.pdf(datum) * (1 - self.mix)\n",
    "            \n",
    "            den = wp1 + wp2\n",
    "            \n",
    "            wp1 /= den\n",
    "            wp2 /= den\n",
    "            \n",
    "            self.loglike += log(wp1+wp2)\n",
    "            \n",
    "            yield(wp1, wp2)\n",
    "            \n",
    "    def Mstep(self, weights):\n",
    "        \n",
    "        (left,right) = zip(*weights)\n",
    "        one_den = sum(left)\n",
    "        two_den = sum(right)\n",
    "        \n",
    "        self.one.mu = sum(w * d / one_den for (w, d) in zip(left, data))\n",
    "        self.two.mu = sum(w * d / two_den for (w, d) in zip(right, data))\n",
    "        \n",
    "        self.one.sigma = sqrt( sum(w * ((d - self.one.mu)** 2) \n",
    "                                  for (w, d) in zip(left, data)) / one_den)\n",
    "        self.two.sigma = sqrt( sum(w * ((d - self.two.mu)** 2)\n",
    "                                  for (w, d) in zip(right, data)) / two_den)\n",
    "        \n",
    "        self.mix = one_den / len(data)\n",
    "        \n",
    "    def iterate(self, N=1, verbose=False):\n",
    "        \"\"\n",
    "        for i in range(1, N+1):\n",
    "            self.Mstep(self.Estep())\n",
    "            if verbose:\n",
    "                print('{0:2} {1}'.format(i, self))\n",
    "                \n",
    "            self.Estep()\n",
    "    \n",
    "    def pdf(self, x):\n",
    "        return (self.mix) * self.one.pdf(x) + (1 - self.mix) *self.two.pdf(x)\n",
    "    \n",
    "    def __repr__(self):\n",
    "        return 'GaussianMixture({0} , {1}, mix={2.03})'.format(self.one, self.two, self.mix)\n",
    "    \n",
    "    def __str__(self):\n",
    "        return 'Mixture ({0} , {1}, mix={2:.03})'.format(self.one, self.two, self.mix)"
   ]
  },
  {
   "cell_type": "code",
   "execution_count": 11,
   "metadata": {
    "collapsed": false
   },
   "outputs": [
    {
     "name": "stdout",
     "output_type": "stream",
     "text": [
      " 1 Mixture (Gaussian (-0.925063, 0.673441) , Gaussian (2.39957, 1.36574), mix=0.161)\n",
      " 1 Mixture (Gaussian (-0.7281, 0.757299) , Gaussian (2.4191, 1.39021), mix=0.177)\n",
      " 1 Mixture (Gaussian (-0.619279, 0.783921) , Gaussian (2.47552, 1.36359), mix=0.198)\n",
      " 1 Mixture (Gaussian (-0.553821, 0.795897) , Gaussian (2.54426, 1.31437), mix=0.22)\n",
      " 1 Mixture (Gaussian (-0.503944, 0.8026) , Gaussian (2.61757, 1.25365), mix=0.242)\n"
     ]
    }
   ],
   "source": [
    "n_iterations = 5\n",
    "best_mix = None\n",
    "best_loglike = float('-inf')\n",
    "mix = GaussianMixture(data)\n",
    "\n",
    "for _ in range(n_iterations):\n",
    "    try:\n",
    "        mix.iterate(verbose=True)\n",
    "        if mix.loglike > best_loglike:\n",
    "            best_loglike = mix.loglike\n",
    "            best_mix = mix\n",
    "            \n",
    "            \n",
    "    except (ZeroDivisionError, ValueError, RuntimeWarning):\n",
    "        print(\"1\")\n",
    "        pass"
   ]
  },
  {
   "cell_type": "code",
   "execution_count": 12,
   "metadata": {
    "collapsed": false,
    "scrolled": false
   },
   "outputs": [
    {
     "name": "stdout",
     "output_type": "stream",
     "text": [
      "computing best model wih random restart.....\n"
     ]
    },
    {
     "name": "stderr",
     "output_type": "stream",
     "text": [
      "C:\\ProgramData\\Anaconda3\\lib\\site-packages\\ipykernel\\__main__.py:8: RuntimeWarning: divide by zero encountered in double_scalars\n"
     ]
    },
    {
     "name": "stdout",
     "output_type": "stream",
     "text": [
      "\n",
      "\n",
      "\n",
      "Done\n"
     ]
    }
   ],
   "source": [
    "n_iterations = 20\n",
    "n_random_restarts = 500\n",
    "best_mix = None\n",
    "best_looklike = float('-inf')\n",
    "print('computing best model wih random restart.....')\n",
    "\n",
    "\n",
    "for _ in range(n_random_restarts):\n",
    "    mix = GaussianMixture(data)\n",
    "    for _ in range(n_iterations):\n",
    "        try:\n",
    "            mix.iterate()\n",
    "            if mix.loglike > best_loglike:\n",
    "                best_loglike = mix.loglike\n",
    "                best_mix = mix\n",
    "        except (ZeroDivisionError, ValueError, RuntimeError):\n",
    "            pass\n",
    "print(\"\\n\\n\\nDone\")"
   ]
  },
  {
   "cell_type": "code",
   "execution_count": 13,
   "metadata": {
    "collapsed": false
   },
   "outputs": [
    {
     "data": {
      "text/plain": [
       "<matplotlib.legend.Legend at 0x1e276226be0>"
      ]
     },
     "execution_count": 13,
     "metadata": {},
     "output_type": "execute_result"
    },
    {
     "data": {
      "image/png": "[encoded data removed]",
      "text/plain": [
       "<matplotlib.figure.Figure at 0x1e2762268d0>"
      ]
     },
     "metadata": {},
     "output_type": "display_data"
    }
   ],
   "source": [
    "sns.distplot(data, bins=20, kde=False, norm_hist=True)\n",
    "g_both = [best_mix.pdf(e) for e in x]\n",
    "plt.plot(x,  g_both, label=\"gaussion mixture\")\n",
    "plt.legend()"
   ]
  },
  {
   "cell_type": "code",
   "execution_count": null,
   "metadata": {
    "collapsed": true
   },
   "outputs": [],
   "source": []
  }
 ],
 "metadata": {
  "kernelspec": {
   "display_name": "Python 3",
   "language": "python",
   "name": "python3"
  },
  "language_info": {
   "codemirror_mode": {
    "name": "ipython",
    "version": 3
   },
   "file_extension": ".py",
   "mimetype": "text/x-python",
   "name": "python",
   "nbconvert_exporter": "python",
   "pygments_lexer": "ipython3",
   "version": "3.6.0"
  }
 },
 "nbformat": 4,
 "nbformat_minor": 2
}
