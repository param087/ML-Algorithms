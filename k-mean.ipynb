{
 "cells": [
  {
   "cell_type": "code",
   "execution_count": 1,
   "metadata": {
    "collapsed": false
   },
   "outputs": [
    {
     "data": {
      "image/png": "[encoded data removed]",
      "text/plain": [
       "<matplotlib.figure.Figure at 0x196071ce978>"
      ]
     },
     "metadata": {},
     "output_type": "display_data"
    }
   ],
   "source": [
    "import numpy as np\n",
    "import matplotlib.pyplot as plt\n",
    "from matplotlib import style\n",
    "style.use('ggplot')\n",
    "\n",
    "X = np.array([[1,2],\n",
    "             [1.5, 1.8],\n",
    "             [5,8],\n",
    "             [8,8],\n",
    "             [1, 0.6],\n",
    "             [9,11]])\n",
    "\n",
    "#plt.scatter(X[:,0], C[:,1], s=150, linewidths=5)\n",
    "#plt.show()\n",
    "\n",
    "colors = 10 * ['g','r','c','b','k','o']\n",
    "\n",
    "class K_Means():\n",
    "    def __init__(self, k=2, tol=0.001, max_iter=300):\n",
    "        self.k = k\n",
    "        self.tol = tol\n",
    "        self.max_iter = max_iter\n",
    "    \n",
    "    def fit(self, data):\n",
    "        \n",
    "        self.centroids = {}\n",
    "        \n",
    "        for i in range(self.k):\n",
    "            self.centroids[i] = data[i]\n",
    "            \n",
    "        for i in range(self.max_iter):\n",
    "            \n",
    "            self.classifications={}\n",
    "            \n",
    "            for i in range(self.k):\n",
    "                self.classifications[i] = []\n",
    "                \n",
    "            for featureset in data:\n",
    "                distances = [np.linalg.norm(featureset - self.centroids[centroid]) for centroid in self.centroids]\n",
    "                classification = distances.index(min(distances))\n",
    "                self.classifications[classification].append(featureset)\n",
    "            \n",
    " \n",
    "                \n",
    "                \n",
    "            prev_centroids = dict(self.centroids)\n",
    "            for classification in self.classifications:\n",
    "                self.centroids[classification] = np.average(self.classifications[classification], axis=  0)\n",
    "                \n",
    "            optimized = True\n",
    "            \n",
    "            for c in self.centroids:\n",
    "                original_centroid = prev_centroids[c]\n",
    "                current_centroid = self.centroids[c]\n",
    "                if np.sum((current_centroid - original_centroid)/original_centroid * 100.0) > self.tol:\n",
    "                    optimized = False\n",
    "                \n",
    "            if optimized:\n",
    "                break\n",
    "    \n",
    "    def predict(self, data):\n",
    "        distances = [np.linalg.norm(data - self.centroids[centroid]) for centroid in self.centroids]\n",
    "        classification = distances.index(min(distances))\n",
    "        return classification\n",
    "\n",
    "clf = K_Means()\n",
    "clf.fit(X)\n",
    "\n",
    "for centroid in clf.centroids:\n",
    "    plt.scatter(clf.centroids[centroid][0], clf.centroids[centroid][1], \n",
    "               marker='o', color=\"k\")\n",
    "for classification in clf.classifications:\n",
    "    color = colors[classification]\n",
    "    for featureset in clf.classifications[classification]:\n",
    "        plt.scatter(featureset[0], featureset[1], marker='x', color=color)\n",
    "        \n",
    "plt.show()"
   ]
  },
  {
   "cell_type": "code",
   "execution_count": null,
   "metadata": {
    "collapsed": true
   },
   "outputs": [],
   "source": []
  }
 ],
 "metadata": {
  "kernelspec": {
   "display_name": "Python 3",
   "language": "python",
   "name": "python3"
  },
  "language_info": {
   "codemirror_mode": {
    "name": "ipython",
    "version": 3
   },
   "file_extension": ".py",
   "mimetype": "text/x-python",
   "name": "python",
   "nbconvert_exporter": "python",
   "pygments_lexer": "ipython3",
   "version": "3.6.0"
  }
 },
 "nbformat": 4,
 "nbformat_minor": 2
}
