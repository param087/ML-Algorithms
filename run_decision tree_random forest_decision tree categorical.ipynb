{
 "cells": [
  {
   "cell_type": "code",
   "execution_count": 3,
   "metadata": {
    "collapsed": false
   },
   "outputs": [
    {
     "name": "stdout",
     "output_type": "stream",
     "text": [
      "0.7837837837837838\n",
      "1.0\n",
      "{'yes': 1.0}\n"
     ]
    }
   ],
   "source": [
    "import numpy as np\n",
    "import pandas as pd\n",
    "from decision_tree import DecisionTree\n",
    "from random_forest import RandomForest\n",
    "from decision_tree_categorical import DecisionTreeCategorical\n",
    "\n",
    "\n",
    "np.random.seed(0)\n",
    "\n",
    "\n",
    "def accuracy(predicted, actual):\n",
    "    value = sum(numeric(predicted) == numeric(actual)) / len(actual)\n",
    "    return float(value)\n",
    "\n",
    "\n",
    "def numeric(Y):\n",
    "    m, n = Y.shape\n",
    "    aux = np.zeros([m, 1])\n",
    "    for idx in range(n):\n",
    "        aux[Y[:, idx] == 1] = idx\n",
    "    return aux\n",
    "\n",
    "\n",
    "def split_train_test(X, Y, test_size=.2):\n",
    "    ts_lines = np.random.choice(len(X), int(test_size*len(X)), replace=False)\n",
    "    tr_lines = [line for line in np.arange(len(X)) if line not in ts_lines]\n",
    "    return X[tr_lines, :], Y[tr_lines, :], X[ts_lines, :], Y[ts_lines, :]\n",
    "\n",
    "\n",
    "def load_data():\n",
    "    df = pd.read_csv('dataset/iris.csv', index_col=[0])\n",
    "    cols = ['Sepal.Length','Sepal.Width','Petal.Length','Petal.Width']\n",
    "    df_X, df_Y = df[cols], pd.get_dummies(df['Species'])\n",
    "    X, Y = df_X.values, df_Y.values\n",
    "    return split_train_test(X, Y, test_size=.25)\n",
    "\n",
    "\n",
    "def load_data_categorical():\n",
    "    df = pd.read_csv('dataset/playtennis.csv')\n",
    "    target = 'play'\n",
    "    test = {\n",
    "        'outlook': 'sunny',\n",
    "        'temp': 'hot',\n",
    "        'humidity': 'normal',\n",
    "        'windy': False\n",
    "    }\n",
    "    return df, target, test\n",
    "\n",
    "\n",
    "if __name__ == '__main__':\n",
    "\n",
    "    X_tr, Y_tr, X_ts, Y_ts = load_data()\n",
    "\n",
    "    # decision tree\n",
    "    model = DecisionTree(n_attrs=4)\n",
    "    model.fit(X_tr, Y_tr)\n",
    "    y_pred = model.predict(X_ts)\n",
    "    print(accuracy(y_pred, Y_ts))\n",
    "\n",
    "    # random forest\n",
    "    model = RandomForest()\n",
    "    model.fit(X_tr, Y_tr)\n",
    "    y_pred = model.predict(X_ts)\n",
    "    print(accuracy(y_pred, Y_ts))\n",
    "\n",
    "    # decision tree categorical\n",
    "    df, attr_targe, record_test = load_data_categorical()\n",
    "    tree = DecisionTreeCategorical()\n",
    "    tree.fit(df, attr_targe)\n",
    "    print(tree.predict_one(record_test) )"
   ]
  },
  {
   "cell_type": "code",
   "execution_count": null,
   "metadata": {
    "collapsed": true
   },
   "outputs": [],
   "source": []
  }
 ],
 "metadata": {
  "kernelspec": {
   "display_name": "Python 3",
   "language": "python",
   "name": "python3"
  },
  "language_info": {
   "codemirror_mode": {
    "name": "ipython",
    "version": 3
   },
   "file_extension": ".py",
   "mimetype": "text/x-python",
   "name": "python",
   "nbconvert_exporter": "python",
   "pygments_lexer": "ipython3",
   "version": "3.6.0"
  }
 },
 "nbformat": 4,
 "nbformat_minor": 2
}
