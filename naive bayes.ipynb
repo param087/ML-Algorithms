{
 "cells": [
  {
   "cell_type": "code",
   "execution_count": 1,
   "metadata": {
    "collapsed": false
   },
   "outputs": [
    {
     "name": "stdout",
     "output_type": "stream",
     "text": [
      "Priori Values:  {'yes': 0.6428571428571429, 'no': 0.35714285714285715}\n",
      "\n",
      "Calculated Conditional Probabilities: \n",
      "\n",
      "{'no': {'Mild': 0.6, 'Normal': 0.4, 'Rainy': 0.8, 't': 0.8},\n",
      " 'yes': {'Mild': 0.5555555555555556,\n",
      "         'Normal': 0.7777777777777778,\n",
      "         'Rainy': 0.3333333333333333,\n",
      "         't': 0.4444444444444444}}\n",
      "Result: \n",
      "yes  ==>  0.04115226337448559\n",
      "no  ==>  0.05485714285714286\n"
     ]
    }
   ],
   "source": [
    "from functools import reduce\n",
    "\n",
    "import pandas as pd\n",
    "import pprint\n",
    "\n",
    "class Classifier():\n",
    "    data = None\n",
    "    class_attr = None\n",
    "    priori = {}\n",
    "    cp = {}\n",
    "    hypothesis = None\n",
    "\n",
    "\n",
    "    def __init__(self,filename=None, class_attr=None ):\n",
    "        self.data = pd.read_csv(filename, sep=',', header =(0))\n",
    "        self.class_attr = class_attr\n",
    "\n",
    "\n",
    "    def calculate_priori(self):\n",
    "        class_values = list(set(self.data[self.class_attr]))\n",
    "        class_data =  list(self.data[self.class_attr])\n",
    "        for i in class_values:\n",
    "            self.priori[i]  = class_data.count(i)/float(len(class_data))\n",
    "        print (\"Priori Values: \", self.priori)\n",
    "\n",
    "\n",
    "    def get_cp(self, attr, attr_type, class_value):\n",
    "        data_attr = list(self.data[attr])\n",
    "        class_data = list(self.data[self.class_attr])\n",
    "        total =1\n",
    "        for i in range(0, len(data_attr)):\n",
    "            if class_data[i] == class_value and data_attr[i] == attr_type:\n",
    "                total+=1\n",
    "        return total/float(class_data.count(class_value))\n",
    "\n",
    "\n",
    "    def calculate_conditional_probabilities(self, hypothesis):\n",
    "        for i in self.priori:\n",
    "            self.cp[i] = {}\n",
    "            for j in hypothesis:\n",
    "                self.cp[i].update({ hypothesis[j]: self.get_cp(j, hypothesis[j], i)})\n",
    "        print (\"\\nCalculated Conditional Probabilities: \\n\")\n",
    "        pprint.pprint(self.cp)\n",
    "\n",
    "    def classify(self):\n",
    "        print (\"Result: \")\n",
    "        for i in self.cp:\n",
    "            print (i, \" ==> \", reduce(lambda x, y: x*y, self.cp[i].values())*self.priori[i])\n",
    "\n",
    "if __name__ == \"__main__\":\n",
    "    c = Classifier(filename=\"dataset/weather.csv\", class_attr=\"Play\" )\n",
    "    c.calculate_priori()\n",
    "    c.hypothesis = {\"Outlook\":'Rainy', \"Temp\":\"Mild\", \"Humidity\":'Normal' , \"Windy\":'t'}\n",
    "\n",
    "    c.calculate_conditional_probabilities(c.hypothesis)\n",
    "    c.classify()\n"
   ]
  },
  {
   "cell_type": "code",
   "execution_count": null,
   "metadata": {
    "collapsed": true
   },
   "outputs": [],
   "source": []
  }
 ],
 "metadata": {
  "kernelspec": {
   "display_name": "Python 3",
   "language": "python",
   "name": "python3"
  },
  "language_info": {
   "codemirror_mode": {
    "name": "ipython",
    "version": 3
   },
   "file_extension": ".py",
   "mimetype": "text/x-python",
   "name": "python",
   "nbconvert_exporter": "python",
   "pygments_lexer": "ipython3",
   "version": "3.6.0"
  }
 },
 "nbformat": 4,
 "nbformat_minor": 2
}
